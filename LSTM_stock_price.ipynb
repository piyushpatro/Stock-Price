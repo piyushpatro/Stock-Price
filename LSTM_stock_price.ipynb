{
  "nbformat": 4,
  "nbformat_minor": 0,
  "metadata": {
    "colab": {
      "name": "LSTM stock price.ipynb",
      "provenance": [],
      "collapsed_sections": [],
      "authorship_tag": "ABX9TyN5r0c0jCZFss7Ex5esOEyZ",
      "include_colab_link": true
    },
    "kernelspec": {
      "name": "python3",
      "display_name": "Python 3"
    },
    "accelerator": "GPU"
  },
  "cells": [
    {
      "cell_type": "markdown",
      "metadata": {
        "id": "view-in-github",
        "colab_type": "text"
      },
      "source": [
        "<a href=\"https://colab.research.google.com/github/piyushpatro/Stock-Price/blob/main/LSTM_stock_price.ipynb\" target=\"_parent\"><img src=\"https://colab.research.google.com/assets/colab-badge.svg\" alt=\"Open In Colab\"/></a>"
      ]
    },
    {
      "cell_type": "code",
      "metadata": {
        "id": "zBExO-RjMM4q"
      },
      "source": [
        "import pandas_datareader as pdr"
      ],
      "execution_count": null,
      "outputs": []
    },
    {
      "cell_type": "code",
      "metadata": {
        "id": "OKHeNWH5MhTm"
      },
      "source": [
        "df=pdr.get_data_tiingo('AAPL', api_key='f2f9d9ed5a8b0873b7a9ca1e666affacc8afec9a')"
      ],
      "execution_count": null,
      "outputs": []
    },
    {
      "cell_type": "code",
      "metadata": {
        "id": "jRvVPi_YOguM"
      },
      "source": [
        "import pandas as pd\n",
        "import numpy as np\n",
        "import matplotlib.pyplot as plt\n",
        "%matplotlib inline"
      ],
      "execution_count": null,
      "outputs": []
    },
    {
      "cell_type": "code",
      "metadata": {
        "id": "yr_h0tw8OlDg"
      },
      "source": [
        "df.to_csv('AAPL.csv')"
      ],
      "execution_count": null,
      "outputs": []
    },
    {
      "cell_type": "code",
      "metadata": {
        "id": "k3F9gzgZOuan"
      },
      "source": [
        "df=pd.read_csv('AAPL.csv')"
      ],
      "execution_count": null,
      "outputs": []
    },
    {
      "cell_type": "code",
      "metadata": {
        "colab": {
          "base_uri": "https://localhost:8080/",
          "height": 197
        },
        "id": "pTVVUklHPPOO",
        "outputId": "da52a9b3-0ab3-47b6-b83d-6d3a731445e0"
      },
      "source": [
        "df.head()"
      ],
      "execution_count": null,
      "outputs": [
        {
          "output_type": "execute_result",
          "data": {
            "text/html": [
              "<div>\n",
              "<style scoped>\n",
              "    .dataframe tbody tr th:only-of-type {\n",
              "        vertical-align: middle;\n",
              "    }\n",
              "\n",
              "    .dataframe tbody tr th {\n",
              "        vertical-align: top;\n",
              "    }\n",
              "\n",
              "    .dataframe thead th {\n",
              "        text-align: right;\n",
              "    }\n",
              "</style>\n",
              "<table border=\"1\" class=\"dataframe\">\n",
              "  <thead>\n",
              "    <tr style=\"text-align: right;\">\n",
              "      <th></th>\n",
              "      <th>symbol</th>\n",
              "      <th>date</th>\n",
              "      <th>close</th>\n",
              "      <th>high</th>\n",
              "      <th>low</th>\n",
              "      <th>open</th>\n",
              "      <th>volume</th>\n",
              "      <th>adjClose</th>\n",
              "      <th>adjHigh</th>\n",
              "      <th>adjLow</th>\n",
              "      <th>adjOpen</th>\n",
              "      <th>adjVolume</th>\n",
              "      <th>divCash</th>\n",
              "      <th>splitFactor</th>\n",
              "    </tr>\n",
              "  </thead>\n",
              "  <tbody>\n",
              "    <tr>\n",
              "      <th>0</th>\n",
              "      <td>AAPL</td>\n",
              "      <td>2016-02-29 00:00:00+00:00</td>\n",
              "      <td>96.69</td>\n",
              "      <td>98.2300</td>\n",
              "      <td>96.65</td>\n",
              "      <td>96.86</td>\n",
              "      <td>35216277</td>\n",
              "      <td>22.479143</td>\n",
              "      <td>22.837172</td>\n",
              "      <td>22.469843</td>\n",
              "      <td>22.518665</td>\n",
              "      <td>140865108</td>\n",
              "      <td>0.0</td>\n",
              "      <td>1.0</td>\n",
              "    </tr>\n",
              "    <tr>\n",
              "      <th>1</th>\n",
              "      <td>AAPL</td>\n",
              "      <td>2016-03-01 00:00:00+00:00</td>\n",
              "      <td>100.53</td>\n",
              "      <td>100.7700</td>\n",
              "      <td>97.42</td>\n",
              "      <td>97.65</td>\n",
              "      <td>50407147</td>\n",
              "      <td>23.371892</td>\n",
              "      <td>23.427688</td>\n",
              "      <td>22.648858</td>\n",
              "      <td>22.702330</td>\n",
              "      <td>201628588</td>\n",
              "      <td>0.0</td>\n",
              "      <td>1.0</td>\n",
              "    </tr>\n",
              "    <tr>\n",
              "      <th>2</th>\n",
              "      <td>AAPL</td>\n",
              "      <td>2016-03-02 00:00:00+00:00</td>\n",
              "      <td>100.75</td>\n",
              "      <td>100.8900</td>\n",
              "      <td>99.64</td>\n",
              "      <td>100.51</td>\n",
              "      <td>33169560</td>\n",
              "      <td>23.423039</td>\n",
              "      <td>23.455587</td>\n",
              "      <td>23.164978</td>\n",
              "      <td>23.367242</td>\n",
              "      <td>132678240</td>\n",
              "      <td>0.0</td>\n",
              "      <td>1.0</td>\n",
              "    </tr>\n",
              "    <tr>\n",
              "      <th>3</th>\n",
              "      <td>AAPL</td>\n",
              "      <td>2016-03-03 00:00:00+00:00</td>\n",
              "      <td>101.50</td>\n",
              "      <td>101.7099</td>\n",
              "      <td>100.45</td>\n",
              "      <td>100.58</td>\n",
              "      <td>36955742</td>\n",
              "      <td>23.597404</td>\n",
              "      <td>23.646203</td>\n",
              "      <td>23.353293</td>\n",
              "      <td>23.383516</td>\n",
              "      <td>147822968</td>\n",
              "      <td>0.0</td>\n",
              "      <td>1.0</td>\n",
              "    </tr>\n",
              "    <tr>\n",
              "      <th>4</th>\n",
              "      <td>AAPL</td>\n",
              "      <td>2016-03-04 00:00:00+00:00</td>\n",
              "      <td>103.01</td>\n",
              "      <td>103.7500</td>\n",
              "      <td>101.37</td>\n",
              "      <td>102.37</td>\n",
              "      <td>46055100</td>\n",
              "      <td>23.948459</td>\n",
              "      <td>24.120499</td>\n",
              "      <td>23.567180</td>\n",
              "      <td>23.799667</td>\n",
              "      <td>184220400</td>\n",
              "      <td>0.0</td>\n",
              "      <td>1.0</td>\n",
              "    </tr>\n",
              "  </tbody>\n",
              "</table>\n",
              "</div>"
            ],
            "text/plain": [
              "  symbol                       date   close  ...  adjVolume  divCash  splitFactor\n",
              "0   AAPL  2016-02-29 00:00:00+00:00   96.69  ...  140865108      0.0          1.0\n",
              "1   AAPL  2016-03-01 00:00:00+00:00  100.53  ...  201628588      0.0          1.0\n",
              "2   AAPL  2016-03-02 00:00:00+00:00  100.75  ...  132678240      0.0          1.0\n",
              "3   AAPL  2016-03-03 00:00:00+00:00  101.50  ...  147822968      0.0          1.0\n",
              "4   AAPL  2016-03-04 00:00:00+00:00  103.01  ...  184220400      0.0          1.0\n",
              "\n",
              "[5 rows x 14 columns]"
            ]
          },
          "metadata": {
            "tags": []
          },
          "execution_count": 6
        }
      ]
    },
    {
      "cell_type": "code",
      "metadata": {
        "colab": {
          "base_uri": "https://localhost:8080/",
          "height": 197
        },
        "id": "Hfbs2HNSPZIx",
        "outputId": "41123b0f-8359-4bec-b425-67b87b832243"
      },
      "source": [
        "df.tail()"
      ],
      "execution_count": null,
      "outputs": [
        {
          "output_type": "execute_result",
          "data": {
            "text/html": [
              "<div>\n",
              "<style scoped>\n",
              "    .dataframe tbody tr th:only-of-type {\n",
              "        vertical-align: middle;\n",
              "    }\n",
              "\n",
              "    .dataframe tbody tr th {\n",
              "        vertical-align: top;\n",
              "    }\n",
              "\n",
              "    .dataframe thead th {\n",
              "        text-align: right;\n",
              "    }\n",
              "</style>\n",
              "<table border=\"1\" class=\"dataframe\">\n",
              "  <thead>\n",
              "    <tr style=\"text-align: right;\">\n",
              "      <th></th>\n",
              "      <th>symbol</th>\n",
              "      <th>date</th>\n",
              "      <th>close</th>\n",
              "      <th>high</th>\n",
              "      <th>low</th>\n",
              "      <th>open</th>\n",
              "      <th>volume</th>\n",
              "      <th>adjClose</th>\n",
              "      <th>adjHigh</th>\n",
              "      <th>adjLow</th>\n",
              "      <th>adjOpen</th>\n",
              "      <th>adjVolume</th>\n",
              "      <th>divCash</th>\n",
              "      <th>splitFactor</th>\n",
              "    </tr>\n",
              "  </thead>\n",
              "  <tbody>\n",
              "    <tr>\n",
              "      <th>1252</th>\n",
              "      <td>AAPL</td>\n",
              "      <td>2021-02-18 00:00:00+00:00</td>\n",
              "      <td>129.71</td>\n",
              "      <td>129.995</td>\n",
              "      <td>127.41</td>\n",
              "      <td>129.20</td>\n",
              "      <td>96856748</td>\n",
              "      <td>129.71</td>\n",
              "      <td>129.995</td>\n",
              "      <td>127.41</td>\n",
              "      <td>129.20</td>\n",
              "      <td>96856748</td>\n",
              "      <td>0.0</td>\n",
              "      <td>1.0</td>\n",
              "    </tr>\n",
              "    <tr>\n",
              "      <th>1253</th>\n",
              "      <td>AAPL</td>\n",
              "      <td>2021-02-19 00:00:00+00:00</td>\n",
              "      <td>129.87</td>\n",
              "      <td>130.710</td>\n",
              "      <td>128.80</td>\n",
              "      <td>130.24</td>\n",
              "      <td>87668834</td>\n",
              "      <td>129.87</td>\n",
              "      <td>130.710</td>\n",
              "      <td>128.80</td>\n",
              "      <td>130.24</td>\n",
              "      <td>87668834</td>\n",
              "      <td>0.0</td>\n",
              "      <td>1.0</td>\n",
              "    </tr>\n",
              "    <tr>\n",
              "      <th>1254</th>\n",
              "      <td>AAPL</td>\n",
              "      <td>2021-02-22 00:00:00+00:00</td>\n",
              "      <td>126.00</td>\n",
              "      <td>129.720</td>\n",
              "      <td>125.60</td>\n",
              "      <td>128.01</td>\n",
              "      <td>102886922</td>\n",
              "      <td>126.00</td>\n",
              "      <td>129.720</td>\n",
              "      <td>125.60</td>\n",
              "      <td>128.01</td>\n",
              "      <td>102886922</td>\n",
              "      <td>0.0</td>\n",
              "      <td>1.0</td>\n",
              "    </tr>\n",
              "    <tr>\n",
              "      <th>1255</th>\n",
              "      <td>AAPL</td>\n",
              "      <td>2021-02-23 00:00:00+00:00</td>\n",
              "      <td>125.86</td>\n",
              "      <td>126.710</td>\n",
              "      <td>118.39</td>\n",
              "      <td>123.76</td>\n",
              "      <td>158273022</td>\n",
              "      <td>125.86</td>\n",
              "      <td>126.710</td>\n",
              "      <td>118.39</td>\n",
              "      <td>123.76</td>\n",
              "      <td>158273022</td>\n",
              "      <td>0.0</td>\n",
              "      <td>1.0</td>\n",
              "    </tr>\n",
              "    <tr>\n",
              "      <th>1256</th>\n",
              "      <td>AAPL</td>\n",
              "      <td>2021-02-24 00:00:00+00:00</td>\n",
              "      <td>125.35</td>\n",
              "      <td>125.560</td>\n",
              "      <td>122.23</td>\n",
              "      <td>124.94</td>\n",
              "      <td>111039904</td>\n",
              "      <td>125.35</td>\n",
              "      <td>125.560</td>\n",
              "      <td>122.23</td>\n",
              "      <td>124.94</td>\n",
              "      <td>111039904</td>\n",
              "      <td>0.0</td>\n",
              "      <td>1.0</td>\n",
              "    </tr>\n",
              "  </tbody>\n",
              "</table>\n",
              "</div>"
            ],
            "text/plain": [
              "     symbol                       date   close  ...  adjVolume  divCash  splitFactor\n",
              "1252   AAPL  2021-02-18 00:00:00+00:00  129.71  ...   96856748      0.0          1.0\n",
              "1253   AAPL  2021-02-19 00:00:00+00:00  129.87  ...   87668834      0.0          1.0\n",
              "1254   AAPL  2021-02-22 00:00:00+00:00  126.00  ...  102886922      0.0          1.0\n",
              "1255   AAPL  2021-02-23 00:00:00+00:00  125.86  ...  158273022      0.0          1.0\n",
              "1256   AAPL  2021-02-24 00:00:00+00:00  125.35  ...  111039904      0.0          1.0\n",
              "\n",
              "[5 rows x 14 columns]"
            ]
          },
          "metadata": {
            "tags": []
          },
          "execution_count": 7
        }
      ]
    },
    {
      "cell_type": "code",
      "metadata": {
        "id": "mmTEen08Pj_v"
      },
      "source": [
        "df=df.reset_index(drop=True)"
      ],
      "execution_count": null,
      "outputs": []
    },
    {
      "cell_type": "code",
      "metadata": {
        "id": "Z8rV199gQE7Y"
      },
      "source": [
        "df=df['close']"
      ],
      "execution_count": null,
      "outputs": []
    },
    {
      "cell_type": "code",
      "metadata": {
        "id": "NNiuDdbZ2YKy"
      },
      "source": [
        "df=np.array(df)"
      ],
      "execution_count": null,
      "outputs": []
    },
    {
      "cell_type": "code",
      "metadata": {
        "colab": {
          "base_uri": "https://localhost:8080/",
          "height": 282
        },
        "id": "sRukws5KqpFS",
        "outputId": "ae56af93-3d69-4599-f5ff-95aa76e1f954"
      },
      "source": [
        "plt.plot(df)"
      ],
      "execution_count": null,
      "outputs": [
        {
          "output_type": "execute_result",
          "data": {
            "text/plain": [
              "[<matplotlib.lines.Line2D at 0x7fd20df66e10>]"
            ]
          },
          "metadata": {
            "tags": []
          },
          "execution_count": 11
        },
        {
          "output_type": "display_data",
          "data": {
            "image/png": "[encoded data removed]",
            "text/plain": [
              "<Figure size 432x288 with 1 Axes>"
            ]
          },
          "metadata": {
            "tags": [],
            "needs_background": "light"
          }
        }
      ]
    },
    {
      "cell_type": "code",
      "metadata": {
        "id": "4Ad2bg5oylla"
      },
      "source": [
        "from sklearn.preprocessing import MinMaxScaler\n",
        "scaler=MinMaxScaler(feature_range=(0,1))\n",
        "df=scaler.fit_transform(df.reshape(-1,1))"
      ],
      "execution_count": null,
      "outputs": []
    },
    {
      "cell_type": "code",
      "metadata": {
        "id": "xg08reO-QzEb"
      },
      "source": [
        "train_dataset=df[0:int(len(df)*0.7), 0]"
      ],
      "execution_count": null,
      "outputs": []
    },
    {
      "cell_type": "code",
      "metadata": {
        "id": "q39glmTb32Aj"
      },
      "source": [
        "train_dataset"
      ],
      "execution_count": null,
      "outputs": []
    },
    {
      "cell_type": "code",
      "metadata": {
        "id": "ccgOllstSJKI"
      },
      "source": [
        "test_dataset=df[len(train_dataset):len(df),0]"
      ],
      "execution_count": null,
      "outputs": []
    },
    {
      "cell_type": "code",
      "metadata": {
        "colab": {
          "base_uri": "https://localhost:8080/"
        },
        "id": "K8ywAmeqj0aI",
        "outputId": "5f25981e-c665-48df-a0c3-35e630f7e36f"
      },
      "source": [
        "test_dataset.shape"
      ],
      "execution_count": null,
      "outputs": [
        {
          "output_type": "execute_result",
          "data": {
            "text/plain": [
              "(378,)"
            ]
          },
          "metadata": {
            "tags": []
          },
          "execution_count": 63
        }
      ]
    },
    {
      "cell_type": "code",
      "metadata": {
        "id": "WoEu8aLuWpt7"
      },
      "source": [
        "def create_dataset(dataset, time_stamp):\n",
        "  dataX=[]\n",
        "  dataY=[]\n",
        "  a=[]\n",
        "  for i in range(0, len(dataset)-time_stamp-1):\n",
        "    a=dataset[i:i+time_stamp, ]\n",
        "    dataX.append(a)\n",
        "    dataY.append(dataset[i+time_stamp])\n",
        "  return np.array(dataX), np.array(dataY)"
      ],
      "execution_count": null,
      "outputs": []
    },
    {
      "cell_type": "code",
      "metadata": {
        "id": "NnhSRIzGmekv",
        "colab": {
          "base_uri": "https://localhost:8080/"
        },
        "outputId": "e7d4ace6-dc61-4c17-d314-b61cc3d5d518"
      },
      "source": [
        "X_train, y_train=create_dataset(train_dataset, time_stamp=100)\n",
        "print(X_train.shape, y_train.shape)"
      ],
      "execution_count": null,
      "outputs": [
        {
          "output_type": "stream",
          "text": [
            "(778, 100) (778,)\n"
          ],
          "name": "stdout"
        }
      ]
    },
    {
      "cell_type": "code",
      "metadata": {
        "colab": {
          "base_uri": "https://localhost:8080/"
        },
        "id": "rMkMT8sV4f44",
        "outputId": "24b142e5-1c1b-4ff1-c24a-fe5074a70cfe"
      },
      "source": [
        "X_test, y_test=create_dataset(test_dataset, time_stamp=100)\n",
        "print(X_test.shape, y_test.shape)"
      ],
      "execution_count": null,
      "outputs": [
        {
          "output_type": "stream",
          "text": [
            "(277, 100) (277,)\n"
          ],
          "name": "stdout"
        }
      ]
    },
    {
      "cell_type": "code",
      "metadata": {
        "id": "1ZMT61qFDTm3"
      },
      "source": [
        "X_train=X_train.reshape(X_train.shape[0], X_train.shape[1], 1)\n",
        "X_test=X_test.reshape(X_test.shape[0], X_test.shape[1], 1)"
      ],
      "execution_count": null,
      "outputs": []
    },
    {
      "cell_type": "code",
      "metadata": {
        "id": "ctQWmxq86u9f"
      },
      "source": [
        "from tensorflow.keras.models import Sequential\n",
        "from tensorflow.keras.layers import Dense, LSTM\n",
        "from tensorflow.keras.optimizers import Adam"
      ],
      "execution_count": null,
      "outputs": []
    },
    {
      "cell_type": "code",
      "metadata": {
        "id": "bHNaXUPHCeDe"
      },
      "source": [
        "model=Sequential()\n",
        "model.add(LSTM(64, return_sequences=True, input_shape=(100, 1)))\n",
        "model.add(LSTM(128, return_sequences=True))\n",
        "model.add(LSTM(256))\n",
        "model.add(Dense(1))\n",
        "model.compile(optimizer=Adam(learning_rate=0.0001), loss='mean_squared_error')"
      ],
      "execution_count": null,
      "outputs": []
    },
    {
      "cell_type": "code",
      "metadata": {
        "colab": {
          "base_uri": "https://localhost:8080/"
        },
        "id": "Q5y9ZbP_E7bw",
        "outputId": "0a10d21b-64c4-44a1-f27b-79828d2a82a5"
      },
      "source": [
        "model.summary()"
      ],
      "execution_count": null,
      "outputs": [
        {
          "output_type": "stream",
          "text": [
            "Model: \"sequential\"\n",
            "_________________________________________________________________\n",
            "Layer (type)                 Output Shape              Param #   \n",
            "=================================================================\n",
            "lstm (LSTM)                  (None, 100, 64)           16896     \n",
            "_________________________________________________________________\n",
            "lstm_1 (LSTM)                (None, 100, 128)          98816     \n",
            "_________________________________________________________________\n",
            "lstm_2 (LSTM)                (None, 256)               394240    \n",
            "_________________________________________________________________\n",
            "dense (Dense)                (None, 1)                 257       \n",
            "=================================================================\n",
            "Total params: 510,209\n",
            "Trainable params: 510,209\n",
            "Non-trainable params: 0\n",
            "_________________________________________________________________\n"
          ],
          "name": "stdout"
        }
      ]
    },
    {
      "cell_type": "code",
      "metadata": {
        "colab": {
          "base_uri": "https://localhost:8080/"
        },
        "id": "D_sDnMv6E9M_",
        "outputId": "aa3f9718-aea8-45af-f284-f65f761e559b"
      },
      "source": [
        "model.fit(X_train, y_train, batch_size=32, validation_data=(X_test, y_test), epochs=64, verbose=1)"
      ],
      "execution_count": null,
      "outputs": [
        {
          "output_type": "stream",
          "text": [
            "Epoch 1/64\n",
            "25/25 [==============================] - 11s 69ms/step - loss: 0.0229 - val_loss: 0.0309\n",
            "Epoch 2/64\n",
            "25/25 [==============================] - 0s 19ms/step - loss: 0.0016 - val_loss: 0.0296\n",
            "Epoch 3/64\n",
            "25/25 [==============================] - 0s 19ms/step - loss: 8.8851e-04 - val_loss: 0.0284\n",
            "Epoch 4/64\n",
            "25/25 [==============================] - 0s 19ms/step - loss: 6.0544e-04 - val_loss: 0.0282\n",
            "Epoch 5/64\n",
            "25/25 [==============================] - 0s 19ms/step - loss: 4.6214e-04 - val_loss: 0.0284\n",
            "Epoch 6/64\n",
            "25/25 [==============================] - 0s 19ms/step - loss: 4.9455e-04 - val_loss: 0.0278\n",
            "Epoch 7/64\n",
            "25/25 [==============================] - 0s 19ms/step - loss: 4.7361e-04 - val_loss: 0.0278\n",
            "Epoch 8/64\n",
            "25/25 [==============================] - 0s 19ms/step - loss: 4.1425e-04 - val_loss: 0.0268\n",
            "Epoch 9/64\n",
            "25/25 [==============================] - 0s 19ms/step - loss: 4.6598e-04 - val_loss: 0.0279\n",
            "Epoch 10/64\n",
            "25/25 [==============================] - 0s 19ms/step - loss: 4.4224e-04 - val_loss: 0.0258\n",
            "Epoch 11/64\n",
            "25/25 [==============================] - 0s 19ms/step - loss: 4.6366e-04 - val_loss: 0.0260\n",
            "Epoch 12/64\n",
            "25/25 [==============================] - 0s 19ms/step - loss: 4.3347e-04 - val_loss: 0.0246\n",
            "Epoch 13/64\n",
            "25/25 [==============================] - 0s 19ms/step - loss: 4.2262e-04 - val_loss: 0.0253\n",
            "Epoch 14/64\n",
            "25/25 [==============================] - 0s 19ms/step - loss: 4.0925e-04 - val_loss: 0.0234\n",
            "Epoch 15/64\n",
            "25/25 [==============================] - 0s 19ms/step - loss: 3.7926e-04 - val_loss: 0.0236\n",
            "Epoch 16/64\n",
            "25/25 [==============================] - 0s 19ms/step - loss: 3.7851e-04 - val_loss: 0.0226\n",
            "Epoch 17/64\n",
            "25/25 [==============================] - 0s 19ms/step - loss: 3.4823e-04 - val_loss: 0.0221\n",
            "Epoch 18/64\n",
            "25/25 [==============================] - 0s 19ms/step - loss: 3.3419e-04 - val_loss: 0.0217\n",
            "Epoch 19/64\n",
            "25/25 [==============================] - 0s 19ms/step - loss: 3.3745e-04 - val_loss: 0.0215\n",
            "Epoch 20/64\n",
            "25/25 [==============================] - 0s 19ms/step - loss: 3.1673e-04 - val_loss: 0.0209\n",
            "Epoch 21/64\n",
            "25/25 [==============================] - 0s 19ms/step - loss: 2.9776e-04 - val_loss: 0.0203\n",
            "Epoch 22/64\n",
            "25/25 [==============================] - 0s 19ms/step - loss: 2.8634e-04 - val_loss: 0.0203\n",
            "Epoch 23/64\n",
            "25/25 [==============================] - 0s 19ms/step - loss: 3.0407e-04 - val_loss: 0.0195\n",
            "Epoch 24/64\n",
            "25/25 [==============================] - 0s 19ms/step - loss: 2.7316e-04 - val_loss: 0.0192\n",
            "Epoch 25/64\n",
            "25/25 [==============================] - 0s 19ms/step - loss: 2.6326e-04 - val_loss: 0.0191\n",
            "Epoch 26/64\n",
            "25/25 [==============================] - 0s 20ms/step - loss: 2.3478e-04 - val_loss: 0.0187\n",
            "Epoch 27/64\n",
            "25/25 [==============================] - 0s 19ms/step - loss: 2.7284e-04 - val_loss: 0.0185\n",
            "Epoch 28/64\n",
            "25/25 [==============================] - 0s 19ms/step - loss: 2.9060e-04 - val_loss: 0.0181\n",
            "Epoch 29/64\n",
            "25/25 [==============================] - 0s 19ms/step - loss: 2.5152e-04 - val_loss: 0.0179\n",
            "Epoch 30/64\n",
            "25/25 [==============================] - 0s 19ms/step - loss: 2.8640e-04 - val_loss: 0.0177\n",
            "Epoch 31/64\n",
            "25/25 [==============================] - 0s 19ms/step - loss: 2.6037e-04 - val_loss: 0.0175\n",
            "Epoch 32/64\n",
            "25/25 [==============================] - 0s 19ms/step - loss: 3.0024e-04 - val_loss: 0.0172\n",
            "Epoch 33/64\n",
            "25/25 [==============================] - 0s 19ms/step - loss: 2.4317e-04 - val_loss: 0.0171\n",
            "Epoch 34/64\n",
            "25/25 [==============================] - 0s 19ms/step - loss: 2.4543e-04 - val_loss: 0.0169\n",
            "Epoch 35/64\n",
            "25/25 [==============================] - 0s 19ms/step - loss: 2.6689e-04 - val_loss: 0.0168\n",
            "Epoch 36/64\n",
            "25/25 [==============================] - 0s 19ms/step - loss: 2.4963e-04 - val_loss: 0.0166\n",
            "Epoch 37/64\n",
            "25/25 [==============================] - 0s 19ms/step - loss: 2.3304e-04 - val_loss: 0.0165\n",
            "Epoch 38/64\n",
            "25/25 [==============================] - 0s 19ms/step - loss: 2.3365e-04 - val_loss: 0.0161\n",
            "Epoch 39/64\n",
            "25/25 [==============================] - 0s 20ms/step - loss: 2.0562e-04 - val_loss: 0.0163\n",
            "Epoch 40/64\n",
            "25/25 [==============================] - 0s 20ms/step - loss: 2.3781e-04 - val_loss: 0.0160\n",
            "Epoch 41/64\n",
            "25/25 [==============================] - 1s 21ms/step - loss: 2.1785e-04 - val_loss: 0.0157\n",
            "Epoch 42/64\n",
            "25/25 [==============================] - 0s 20ms/step - loss: 2.0989e-04 - val_loss: 0.0154\n",
            "Epoch 43/64\n",
            "25/25 [==============================] - 0s 20ms/step - loss: 2.3408e-04 - val_loss: 0.0154\n",
            "Epoch 44/64\n",
            "25/25 [==============================] - 0s 20ms/step - loss: 2.1185e-04 - val_loss: 0.0150\n",
            "Epoch 45/64\n",
            "25/25 [==============================] - 0s 19ms/step - loss: 2.3220e-04 - val_loss: 0.0148\n",
            "Epoch 46/64\n",
            "25/25 [==============================] - 0s 19ms/step - loss: 2.2337e-04 - val_loss: 0.0153\n",
            "Epoch 47/64\n",
            "25/25 [==============================] - 0s 19ms/step - loss: 2.2439e-04 - val_loss: 0.0153\n",
            "Epoch 48/64\n",
            "25/25 [==============================] - 0s 19ms/step - loss: 2.5718e-04 - val_loss: 0.0153\n",
            "Epoch 49/64\n",
            "25/25 [==============================] - 0s 20ms/step - loss: 1.9419e-04 - val_loss: 0.0148\n",
            "Epoch 50/64\n",
            "25/25 [==============================] - 0s 20ms/step - loss: 1.9556e-04 - val_loss: 0.0147\n",
            "Epoch 51/64\n",
            "25/25 [==============================] - 0s 20ms/step - loss: 2.1063e-04 - val_loss: 0.0145\n",
            "Epoch 52/64\n",
            "25/25 [==============================] - 0s 19ms/step - loss: 2.1979e-04 - val_loss: 0.0139\n",
            "Epoch 53/64\n",
            "25/25 [==============================] - 0s 19ms/step - loss: 2.2976e-04 - val_loss: 0.0138\n",
            "Epoch 54/64\n",
            "25/25 [==============================] - 0s 20ms/step - loss: 2.0532e-04 - val_loss: 0.0137\n",
            "Epoch 55/64\n",
            "25/25 [==============================] - 0s 20ms/step - loss: 1.8399e-04 - val_loss: 0.0138\n",
            "Epoch 56/64\n",
            "25/25 [==============================] - 0s 19ms/step - loss: 2.0285e-04 - val_loss: 0.0138\n",
            "Epoch 57/64\n",
            "25/25 [==============================] - 0s 19ms/step - loss: 1.9009e-04 - val_loss: 0.0139\n",
            "Epoch 58/64\n",
            "25/25 [==============================] - 0s 19ms/step - loss: 2.0127e-04 - val_loss: 0.0134\n",
            "Epoch 59/64\n",
            "25/25 [==============================] - 0s 19ms/step - loss: 2.1153e-04 - val_loss: 0.0133\n",
            "Epoch 60/64\n",
            "25/25 [==============================] - 0s 19ms/step - loss: 1.8969e-04 - val_loss: 0.0138\n",
            "Epoch 61/64\n",
            "25/25 [==============================] - 0s 19ms/step - loss: 1.9111e-04 - val_loss: 0.0145\n",
            "Epoch 62/64\n",
            "25/25 [==============================] - 0s 20ms/step - loss: 2.2431e-04 - val_loss: 0.0130\n",
            "Epoch 63/64\n",
            "25/25 [==============================] - 0s 19ms/step - loss: 1.9231e-04 - val_loss: 0.0130\n",
            "Epoch 64/64\n",
            "25/25 [==============================] - 0s 19ms/step - loss: 1.9868e-04 - val_loss: 0.0124\n"
          ],
          "name": "stdout"
        },
        {
          "output_type": "execute_result",
          "data": {
            "text/plain": [
              "<tensorflow.python.keras.callbacks.History at 0x7fd17217f2d0>"
            ]
          },
          "metadata": {
            "tags": []
          },
          "execution_count": 23
        }
      ]
    },
    {
      "cell_type": "code",
      "metadata": {
        "id": "OKvnt1yhFa-H"
      },
      "source": [
        "pred=model.predict(X_test)"
      ],
      "execution_count": null,
      "outputs": []
    },
    {
      "cell_type": "code",
      "metadata": {
        "id": "K06isPoTIZBr"
      },
      "source": [
        "print(scaler.inverse_transform(pred))"
      ],
      "execution_count": null,
      "outputs": []
    },
    {
      "cell_type": "code",
      "metadata": {
        "id": "MSFhWd9WFwQt",
        "colab": {
          "base_uri": "https://localhost:8080/",
          "height": 513
        },
        "outputId": "5d5d4252-cd7e-46f2-f81f-85bb0fa8ea9b"
      },
      "source": [
        "plt.plot(scaler.inverse_transform(y_test.reshape(-1,1)))\n",
        "plt.show()\n",
        "plt.plot(scaler.inverse_transform(pred))\n",
        "plt.show()"
      ],
      "execution_count": null,
      "outputs": [
        {
          "output_type": "display_data",
          "data": {
            "image/png": "[encoded data removed]",
            "text/plain": [
              "<Figure size 432x288 with 1 Axes>"
            ]
          },
          "metadata": {
            "tags": [],
            "needs_background": "light"
          }
        },
        {
          "output_type": "display_data",
          "data": {
            "image/png": "[encoded data removed]",
            "text/plain": [
              "<Figure size 432x288 with 1 Axes>"
            ]
          },
          "metadata": {
            "tags": [],
            "needs_background": "light"
          }
        }
      ]
    },
    {
      "cell_type": "code",
      "metadata": {
        "id": "aT3WnAXFsbwD"
      },
      "source": [
        "from sklearn.metrics import mean_squared_error"
      ],
      "execution_count": null,
      "outputs": []
    },
    {
      "cell_type": "code",
      "metadata": {
        "id": "pK1KMNALtlSh"
      },
      "source": [
        "mse=mean_squared_error(y_test, pred)"
      ],
      "execution_count": null,
      "outputs": []
    },
    {
      "cell_type": "code",
      "metadata": {
        "colab": {
          "base_uri": "https://localhost:8080/"
        },
        "id": "iM0KYHNKtxvy",
        "outputId": "ad486876-d0fd-4b7a-8f22-97991321bae4"
      },
      "source": [
        "print(scaler.inverse_transform(mse.reshape(-1,1)))"
      ],
      "execution_count": null,
      "outputs": [
        {
          "output_type": "stream",
          "text": [
            "[[95.48450393]]\n"
          ],
          "name": "stdout"
        }
      ]
    },
    {
      "cell_type": "code",
      "metadata": {
        "colab": {
          "base_uri": "https://localhost:8080/"
        },
        "id": "da1-0y_ruF3a",
        "outputId": "9f6bf205-0b47-495e-9d69-484203985696"
      },
      "source": [
        "print(X_test.shape, y_test.shape)"
      ],
      "execution_count": null,
      "outputs": [
        {
          "output_type": "stream",
          "text": [
            "(277, 100, 1) (277,)\n"
          ],
          "name": "stdout"
        }
      ]
    },
    {
      "cell_type": "code",
      "metadata": {
        "colab": {
          "base_uri": "https://localhost:8080/"
        },
        "id": "BcOUQYUidgun",
        "outputId": "2f273586-f963-4995-c00b-85ecb391ba80"
      },
      "source": [
        "X_test[-1].shape"
      ],
      "execution_count": null,
      "outputs": [
        {
          "output_type": "execute_result",
          "data": {
            "text/plain": [
              "(100, 1)"
            ]
          },
          "metadata": {
            "tags": []
          },
          "execution_count": 39
        }
      ]
    },
    {
      "cell_type": "code",
      "metadata": {
        "id": "soiq4W43iA2_"
      },
      "source": [
        "dataX=X_test[-1,:,:]"
      ],
      "execution_count": null,
      "outputs": []
    },
    {
      "cell_type": "code",
      "metadata": {
        "id": "ftfQyasn2Crn"
      },
      "source": [
        "dataY=model.predict(dataX.reshape(1,100,1))"
      ],
      "execution_count": null,
      "outputs": []
    },
    {
      "cell_type": "code",
      "metadata": {
        "id": "ZyP6Qkaz15VS"
      },
      "source": [
        "for i in range(100):\n",
        "  dataX=np.append(dataX, dataY[-1])\n",
        "  dataX=dataX[1:]\n",
        "  dataY=np.append(dataY, model.predict(dataX.reshape(1,100,1)))"
      ],
      "execution_count": null,
      "outputs": []
    },
    {
      "cell_type": "code",
      "metadata": {
        "id": "vVrYDabP2K5p"
      },
      "source": [
        "print(scaler.inverse_transform(dataY.reshape(-1,1)))"
      ],
      "execution_count": null,
      "outputs": []
    },
    {
      "cell_type": "code",
      "metadata": {
        "colab": {
          "base_uri": "https://localhost:8080/",
          "height": 513
        },
        "id": "k_AAHqIG2L0f",
        "outputId": "2d538140-9f62-4cd2-a739-1cd9cce01535"
      },
      "source": [
        "plt.plot(scaler.inverse_transform(test_dataset.reshape(-1,1)))\n",
        "plt.show()\n",
        "plt.plot(scaler.inverse_transform(dataY.reshape(-1,1)))\n",
        "plt.show()"
      ],
      "execution_count": null,
      "outputs": [
        {
          "output_type": "display_data",
          "data": {
            "image/png": "[encoded data removed]",
            "text/plain": [
              "<Figure size 432x288 with 1 Axes>"
            ]
          },
          "metadata": {
            "tags": [],
            "needs_background": "light"
          }
        },
        {
          "output_type": "display_data",
          "data": {
            "image/png": "[encoded data removed]",
            "text/plain": [
              "<Figure size 432x288 with 1 Axes>"
            ]
          },
          "metadata": {
            "tags": [],
            "needs_background": "light"
          }
        }
      ]
    }
  ]
}